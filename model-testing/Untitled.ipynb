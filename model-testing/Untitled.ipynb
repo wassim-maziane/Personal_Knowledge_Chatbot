{
 "cells": [
  {
   "cell_type": "code",
   "execution_count": 2,
   "id": "2de0125b",
   "metadata": {},
   "outputs": [],
   "source": [
    "from langchain_ollama import ChatOllama\n",
    "from langchain_core.output_parsers import StrOutputParser\n",
    "import os\n",
    "from pydantic import BaseModel, Field\n",
    "from langchain_core.prompts import ChatPromptTemplate\n",
    "from langchain_core.messages import HumanMessage, SystemMessage"
   ]
  },
  {
   "cell_type": "code",
   "execution_count": 3,
   "id": "02c402e5",
   "metadata": {},
   "outputs": [],
   "source": [
    "os.environ[\"LANGCHAIN_TRACING_V2\"] = \"true\"\n",
    "os.environ[\"LANGCHAIN_API_KEY\"] = \"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\"\n",
    "os.environ[\"LANGCHAIN_PROJECT\"] = \"Personal-Knowledge-Chatbot\"\n",
    "os.environ[\"LANGCHAIN_ENDPOINT\"] =\"https://api.smith.langchain.com\""
   ]
  },
  {
   "cell_type": "code",
   "execution_count": 4,
   "id": "5d5ba0c3",
   "metadata": {},
   "outputs": [
    {
     "name": "stdout",
     "output_type": "stream",
     "text": [
      "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 true\n"
     ]
    }
   ],
   "source": [
    "print(os.environ[\"LANGCHAIN_API_KEY\"], os.environ[\"LANGCHAIN_TRACING_V2\"])"
   ]
  },
  {
   "cell_type": "code",
   "execution_count": 5,
   "id": "0c5de000",
   "metadata": {},
   "outputs": [
    {
     "data": {
      "text/plain": [
       "AIMessage(content=\"Here's one:\\n\\nWhat do you call a fake noodle?\\n\\nAn impasta!\\n\\nHope that made you laugh! Do you want to hear another one?\", additional_kwargs={}, response_metadata={'model': 'llama3.1:8b', 'created_at': '2024-10-27T19:17:11.153640616Z', 'message': {'role': 'assistant', 'content': ''}, 'done_reason': 'stop', 'done': True, 'total_duration': 14145822737, 'load_duration': 5870659944, 'prompt_eval_count': 14, 'prompt_eval_duration': 1801242000, 'eval_count': 32, 'eval_duration': 6417110000}, id='run-464871ea-4ed8-4b30-9e57-6c15ff7a94f3-0', usage_metadata={'input_tokens': 14, 'output_tokens': 32, 'total_tokens': 46})"
      ]
     },
     "execution_count": 5,
     "metadata": {},
     "output_type": "execute_result"
    }
   ],
   "source": [
    "# LLM CALL\n",
    "llm = ChatOllama(model=\"llama3.1:8b\")\n",
    "llm_response = llm.invoke(\"Tell me a joke\")\n",
    "llm_response"
   ]
  },
  {
   "cell_type": "code",
   "execution_count": 6,
   "id": "2bc724b9",
   "metadata": {},
   "outputs": [
    {
     "data": {
      "text/plain": [
       "\"Here's one:\\n\\nWhat do you call a fake noodle?\\n\\nAn impasta!\\n\\nHope that made you laugh! Do you want to hear another one?\""
      ]
     },
     "execution_count": 6,
     "metadata": {},
     "output_type": "execute_result"
    }
   ],
   "source": [
    "# Parse Output\n",
    "output_parser = StrOutputParser()\n",
    "output_parser.invoke(llm_response)"
   ]
  },
  {
   "cell_type": "code",
   "execution_count": 7,
   "id": "95cbe4e6",
   "metadata": {},
   "outputs": [
    {
     "data": {
      "text/plain": [
       "\"Here's one:\\n\\nWhat do you call a fake noodle?\\n\\nAn impasta!\\n\\nHope that made you laugh! Do you want to hear another?\""
      ]
     },
     "execution_count": 7,
     "metadata": {},
     "output_type": "execute_result"
    }
   ],
   "source": [
    "# Simple Chain\n",
    "chain = llm | StrOutputParser()\n",
    "chain.invoke(\"Tell me a joke\")"
   ]
  },
  {
   "cell_type": "code",
   "execution_count": null,
   "id": "61891c2d",
   "metadata": {},
   "outputs": [],
   "source": [
    "# Structured Output\n",
    "class MobileReview(BaseModel):\n",
    "    ...\n",
    "structured_llm = llm.with_structured_output(MobileReview)\n",
    "review_text = \"...\"\n",
    "output = structured_llm.invoke(review_text)"
   ]
  },
  {
   "cell_type": "code",
   "execution_count": 4,
   "id": "107776cb",
   "metadata": {},
   "outputs": [
    {
     "data": {
      "text/plain": [
       "ChatPromptValue(messages=[HumanMessage(content='tell me a joke about cars', additional_kwargs={}, response_metadata={})])"
      ]
     },
     "execution_count": 4,
     "metadata": {},
     "output_type": "execute_result"
    }
   ],
   "source": [
    "# Prompt Template\n",
    "prompt = ChatPromptTemplate.from_template(\"tell me a joke about {topic}\")\n",
    "prompt.invoke({\"topic\": \"cars\"})"
   ]
  },
  {
   "cell_type": "code",
   "execution_count": 11,
   "id": "e9f3c268",
   "metadata": {},
   "outputs": [
    {
     "data": {
      "text/plain": [
       "'Why did the car go to the doctor?\\n\\nBecause it was feeling a little \"car-sick\"!'"
      ]
     },
     "execution_count": 11,
     "metadata": {},
     "output_type": "execute_result"
    }
   ],
   "source": [
    "chain = prompt | llm | output_parser\n",
    "chain.invoke({\"topic\": \"cars\"})"
   ]
  },
  {
   "cell_type": "code",
   "execution_count": 12,
   "id": "9d608d33",
   "metadata": {},
   "outputs": [],
   "source": [
    "# LLM Messages"
   ]
  },
  {
   "cell_type": "code",
   "execution_count": 8,
   "id": "635d3b55",
   "metadata": {},
   "outputs": [
    {
     "data": {
      "text/plain": [
       "'I\\'m happy to tell you some jokes and insights about women! But keep in mind, I\\'ll be trying to be respectful and not perpetuate any stereotypes. After all, women are amazing individuals with their own unique qualities!\\n\\nHere\\'s a joke to get us started:\\n\\nWhy did the woman bring a ladder to the party?\\n\\nBecause she heard the drinks were on the house!\\n\\nOkay, okay, I know that one was a bit of a groaner...\\n\\nIn all seriousness, women have made incredible contributions throughout history and continue to be trailblazers in various fields. From science and technology to arts and social justice, women are breaking barriers and pushing boundaries.\\n\\nSome interesting facts about women:\\n\\n* Women make up around 51% of the global population.\\n* The first computer programmer was a woman named Ada Lovelace (1815-1852).\\n* Women have held public office since ancient times, with Queen Hatshepsut being one of the most successful pharaohs in Egyptian history.\\n\\nNow, let\\'s get to some more jokes!\\n\\nWhy did the woman take a second job?\\n\\nBecause she wanted to work double-time and make ends meet!\\n\\n(Sorry, had to!)\\n\\nLastly, I\\'ll share this funny quote from actress Tina Fey: \"I want my life to be like a box of chocolates – you never know what you\\'re gonna get. But with women, it\\'s more like a box of chocolates that\\'s been sitting in the car for three days.\"\\n\\nHope these jokes and facts about women brought a smile to your face! Do you have any specific questions or topics you\\'d like me to address?'"
      ]
     },
     "execution_count": 8,
     "metadata": {},
     "output_type": "execute_result"
    }
   ],
   "source": [
    "template = ChatPromptTemplate([(\"system\", \"You are a helpful assistant that tells jokes\"),\n",
    "                               (\"human\", \"Tell me about {topic}\")])\n",
    "chain = template | llm | output_parser\n",
    "chain.invoke({\"topic\": \"women\"})"
   ]
  },
  {
   "cell_type": "code",
   "execution_count": null,
   "id": "ae534a0c",
   "metadata": {},
   "outputs": [],
   "source": []
  }
 ],
 "metadata": {
  "kernelspec": {
   "display_name": "venv",
   "language": "python",
   "name": "venv"
  },
  "language_info": {
   "codemirror_mode": {
    "name": "ipython",
    "version": 3
   },
   "file_extension": ".py",
   "mimetype": "text/x-python",
   "name": "python",
   "nbconvert_exporter": "python",
   "pygments_lexer": "ipython3",
   "version": "3.12.6"
  }
 },
 "nbformat": 4,
 "nbformat_minor": 5
}
